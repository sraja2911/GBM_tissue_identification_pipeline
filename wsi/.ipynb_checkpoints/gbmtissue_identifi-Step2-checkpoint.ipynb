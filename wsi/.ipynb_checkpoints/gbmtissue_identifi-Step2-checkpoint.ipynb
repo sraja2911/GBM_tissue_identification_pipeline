{
 "cells": [
  {
   "cell_type": "markdown",
   "metadata": {},
   "source": [
    "#### GBM Tissue Identification Pipeline using Scikit and Python packages\n",
    "import numpy as np\n",
    "from PIL import Image\n",
    "import matplotlib.pyplot as plt\n",
    "import os\n",
    "import slide as slideprocess\n",
    "from slide import *"
   ]
  },
  {
   "cell_type": "code",
   "execution_count": 1,
   "metadata": {},
   "outputs": [],
   "source": [
    "import numpy as np\n",
    "from PIL import Image \n",
    "import matplotlib.pyplot as plt \n",
    "import os \n",
    "import slide as slide\n",
    "from slide import *"
   ]
  },
  {
   "cell_type": "code",
   "execution_count": 2,
   "metadata": {},
   "outputs": [],
   "source": [
    "BASE_DIR = os.path.join(\".\", \"/media/raj/Raj1_5/data\")\n",
    "# BASE_DIR = os.path.join(os.sep, \"Volumes\", \"BigData\", \"TUPAC\")\n",
    "TRAIN_PREFIX = \"TCGA-GBM-\"\n",
    "SRC_TRAIN_DIR = os.path.join(BASE_DIR, \"training_slides\")\n",
    "#SRC_TRAIN_DIR = os.path.join(BASE_DIR, \"training_image_data\")\n",
    "SRC_TRAIN_EXT = \"svs\"\n",
    "DEST_TRAIN_SUFFIX = \"\"  # Example: \"train-\"\n",
    "DEST_TRAIN_EXT = \"png\"\n",
    "SCALE_FACTOR = 32\n",
    "DEST_TRAIN_DIR = os.path.join(BASE_DIR, \"training_\" + DEST_TRAIN_EXT)\n",
    "THUMBNAIL_SIZE = 300\n",
    "THUMBNAIL_EXT = \"jpg\"\n",
    "\n",
    "DEST_TRAIN_THUMBNAIL_DIR = os.path.join(BASE_DIR, \"training_thumbnail_\" + THUMBNAIL_EXT)\n",
    "\n",
    "FILTER_SUFFIX = \"\"  # Example: \"filter-\"\n",
    "FILTER_RESULT_TEXT = \"filtered\"\n",
    "FILTER_DIR = os.path.join(BASE_DIR, \"filter_\" + DEST_TRAIN_EXT)\n",
    "FILTER_THUMBNAIL_DIR = os.path.join(BASE_DIR, \"filter_thumbnail_\" + THUMBNAIL_EXT)\n",
    "FILTER_PAGINATION_SIZE = 50\n",
    "FILTER_PAGINATE = True\n",
    "FILTER_HTML_DIR = BASE_DIR\n",
    "\n",
    "TILE_SUMMARY_DIR = os.path.join(BASE_DIR, \"tile_summary_\" + DEST_TRAIN_EXT)\n",
    "TILE_SUMMARY_ON_ORIGINAL_DIR = os.path.join(BASE_DIR, \"tile_summary_on_original_\" + DEST_TRAIN_EXT)\n",
    "TILE_SUMMARY_SUFFIX = \"tile_summary\"\n",
    "TILE_SUMMARY_THUMBNAIL_DIR = os.path.join(BASE_DIR, \"tile_summary_thumbnail_\" + THUMBNAIL_EXT)\n",
    "TILE_SUMMARY_ON_ORIGINAL_THUMBNAIL_DIR = os.path.join(BASE_DIR, \"tile_summary_on_original_thumbnail_\" + THUMBNAIL_EXT)\n",
    "TILE_SUMMARY_PAGINATION_SIZE = 50\n",
    "TILE_SUMMARY_PAGINATE = True\n",
    "TILE_SUMMARY_HTML_DIR = BASE_DIR\n",
    "\n",
    "TILE_DATA_DIR = os.path.join(BASE_DIR, \"tile_data\")\n",
    "TILE_DATA_SUFFIX = \"tile_data\"\n",
    "\n",
    "TOP_TILES_SUFFIX = \"top_tile_summary\"\n",
    "TOP_TILES_DIR = os.path.join(BASE_DIR, TOP_TILES_SUFFIX + \"_\" + DEST_TRAIN_EXT)\n",
    "TOP_TILES_THUMBNAIL_DIR = os.path.join(BASE_DIR, TOP_TILES_SUFFIX + \"_thumbnail_\" + THUMBNAIL_EXT)\n",
    "TOP_TILES_ON_ORIGINAL_DIR = os.path.join(BASE_DIR, TOP_TILES_SUFFIX + \"_on_original_\" + DEST_TRAIN_EXT)\n",
    "TOP_TILES_ON_ORIGINAL_THUMBNAIL_DIR = os.path.join(BASE_DIR,\n",
    "                                                   TOP_TILES_SUFFIX + \"_on_original_thumbnail_\" + THUMBNAIL_EXT)\n",
    "\n",
    "TILE_DIR = os.path.join(BASE_DIR, \"tiles_\" + DEST_TRAIN_EXT)\n",
    "TILE_SUFFIX = \"tile\"\n",
    "\n",
    "STATS_DIR = os.path.join(BASE_DIR, \"svs_stats\")"
   ]
  },
  {
   "cell_type": "code",
   "execution_count": 3,
   "metadata": {},
   "outputs": [],
   "source": [
    "import util "
   ]
  },
  {
   "cell_type": "code",
   "execution_count": 4,
   "metadata": {},
   "outputs": [],
   "source": [
    "import math\n",
    "import multiprocessing\n",
    "import numpy as np\n",
    "import os\n",
    "import scipy.ndimage.morphology as sc_morph\n",
    "import skimage.color as sk_color\n",
    "import skimage.exposure as sk_exposure\n",
    "import skimage.feature as sk_feature\n",
    "import skimage.filters as sk_filters\n",
    "import skimage.future as sk_future\n",
    "import skimage.morphology as sk_morphology\n",
    "import skimage.segmentation as sk_segmentation"
   ]
  },
  {
   "cell_type": "code",
   "execution_count": 5,
   "metadata": {},
   "outputs": [],
   "source": [
    "import filter "
   ]
  },
  {
   "cell_type": "code",
   "execution_count": null,
   "metadata": {},
   "outputs": [],
   "source": [
    "#### Apply_image_filters() function - Filters green channel, grays, red pen, green pen and blue pen masks\n",
    "#### and combines these into a single mask using boolean ANDs. Subsequently,small objects are removed."
   ]
  },
  {
   "cell_type": "code",
   "execution_count": null,
   "metadata": {},
   "outputs": [],
   "source": [
    "filter.apply_filters_to_image(2, display=False, save=True)"
   ]
  },
  {
   "cell_type": "code",
   "execution_count": 6,
   "metadata": {},
   "outputs": [
    {
     "name": "stderr",
     "output_type": "stream",
     "text": [
      "/home/raj/Dropbox/files/EmoryUni/Lab_SourceCode/GBM_TissueIdentification/deep-histopath/deephistopath/wsi/tiles.py:20: UserWarning: \n",
      "This call to matplotlib.use() has no effect because the backend has already\n",
      "been chosen; matplotlib.use() must be called *before* pylab, matplotlib.pyplot,\n",
      "or matplotlib.backends is imported for the first time.\n",
      "\n",
      "The backend was *originally* set to 'module://ipykernel.pylab.backend_inline' by the following code:\n",
      "  File \"/home/raj/anaconda2/envs/GBMpipeline/lib/python3.6/runpy.py\", line 193, in _run_module_as_main\n",
      "    \"__main__\", mod_spec)\n",
      "  File \"/home/raj/anaconda2/envs/GBMpipeline/lib/python3.6/runpy.py\", line 85, in _run_code\n",
      "    exec(code, run_globals)\n",
      "  File \"/home/raj/anaconda2/envs/GBMpipeline/lib/python3.6/site-packages/ipykernel_launcher.py\", line 16, in <module>\n",
      "    app.launch_new_instance()\n",
      "  File \"/home/raj/anaconda2/envs/GBMpipeline/lib/python3.6/site-packages/traitlets/config/application.py\", line 658, in launch_instance\n",
      "    app.start()\n",
      "  File \"/home/raj/anaconda2/envs/GBMpipeline/lib/python3.6/site-packages/ipykernel/kernelapp.py\", line 486, in start\n",
      "    self.io_loop.start()\n",
      "  File \"/home/raj/anaconda2/envs/GBMpipeline/lib/python3.6/site-packages/tornado/platform/asyncio.py\", line 127, in start\n",
      "    self.asyncio_loop.run_forever()\n",
      "  File \"/home/raj/anaconda2/envs/GBMpipeline/lib/python3.6/asyncio/base_events.py\", line 422, in run_forever\n",
      "    self._run_once()\n",
      "  File \"/home/raj/anaconda2/envs/GBMpipeline/lib/python3.6/asyncio/base_events.py\", line 1432, in _run_once\n",
      "    handle._run()\n",
      "  File \"/home/raj/anaconda2/envs/GBMpipeline/lib/python3.6/asyncio/events.py\", line 145, in _run\n",
      "    self._callback(*self._args)\n",
      "  File \"/home/raj/anaconda2/envs/GBMpipeline/lib/python3.6/site-packages/tornado/platform/asyncio.py\", line 117, in _handle_events\n",
      "    handler_func(fileobj, events)\n",
      "  File \"/home/raj/anaconda2/envs/GBMpipeline/lib/python3.6/site-packages/tornado/stack_context.py\", line 276, in null_wrapper\n",
      "    return fn(*args, **kwargs)\n",
      "  File \"/home/raj/anaconda2/envs/GBMpipeline/lib/python3.6/site-packages/zmq/eventloop/zmqstream.py\", line 450, in _handle_events\n",
      "    self._handle_recv()\n",
      "  File \"/home/raj/anaconda2/envs/GBMpipeline/lib/python3.6/site-packages/zmq/eventloop/zmqstream.py\", line 480, in _handle_recv\n",
      "    self._run_callback(callback, msg)\n",
      "  File \"/home/raj/anaconda2/envs/GBMpipeline/lib/python3.6/site-packages/zmq/eventloop/zmqstream.py\", line 432, in _run_callback\n",
      "    callback(*args, **kwargs)\n",
      "  File \"/home/raj/anaconda2/envs/GBMpipeline/lib/python3.6/site-packages/tornado/stack_context.py\", line 276, in null_wrapper\n",
      "    return fn(*args, **kwargs)\n",
      "  File \"/home/raj/anaconda2/envs/GBMpipeline/lib/python3.6/site-packages/ipykernel/kernelbase.py\", line 283, in dispatcher\n",
      "    return self.dispatch_shell(stream, msg)\n",
      "  File \"/home/raj/anaconda2/envs/GBMpipeline/lib/python3.6/site-packages/ipykernel/kernelbase.py\", line 233, in dispatch_shell\n",
      "    handler(stream, idents, msg)\n",
      "  File \"/home/raj/anaconda2/envs/GBMpipeline/lib/python3.6/site-packages/ipykernel/kernelbase.py\", line 399, in execute_request\n",
      "    user_expressions, allow_stdin)\n",
      "  File \"/home/raj/anaconda2/envs/GBMpipeline/lib/python3.6/site-packages/ipykernel/ipkernel.py\", line 208, in do_execute\n",
      "    res = shell.run_cell(code, store_history=store_history, silent=silent)\n",
      "  File \"/home/raj/anaconda2/envs/GBMpipeline/lib/python3.6/site-packages/ipykernel/zmqshell.py\", line 537, in run_cell\n",
      "    return super(ZMQInteractiveShell, self).run_cell(*args, **kwargs)\n",
      "  File \"/home/raj/anaconda2/envs/GBMpipeline/lib/python3.6/site-packages/IPython/core/interactiveshell.py\", line 2666, in run_cell\n",
      "    self.events.trigger('post_run_cell', result)\n",
      "  File \"/home/raj/anaconda2/envs/GBMpipeline/lib/python3.6/site-packages/IPython/core/events.py\", line 88, in trigger\n",
      "    func(*args, **kwargs)\n",
      "  File \"/home/raj/anaconda2/envs/GBMpipeline/lib/python3.6/site-packages/ipykernel/pylab/backend_inline.py\", line 160, in configure_once\n",
      "    activate_matplotlib(backend)\n",
      "  File \"/home/raj/anaconda2/envs/GBMpipeline/lib/python3.6/site-packages/IPython/core/pylabtools.py\", line 311, in activate_matplotlib\n",
      "    matplotlib.pyplot.switch_backend(backend)\n",
      "  File \"/home/raj/anaconda2/envs/GBMpipeline/lib/python3.6/site-packages/matplotlib/pyplot.py\", line 231, in switch_backend\n",
      "    matplotlib.use(newbackend, warn=False, force=True)\n",
      "  File \"/home/raj/anaconda2/envs/GBMpipeline/lib/python3.6/site-packages/matplotlib/__init__.py\", line 1410, in use\n",
      "    reload(sys.modules['matplotlib.backends'])\n",
      "  File \"/home/raj/anaconda2/envs/GBMpipeline/lib/python3.6/importlib/__init__.py\", line 166, in reload\n",
      "    _bootstrap._exec(spec, module)\n",
      "  File \"/home/raj/anaconda2/envs/GBMpipeline/lib/python3.6/site-packages/matplotlib/backends/__init__.py\", line 16, in <module>\n",
      "    line for line in traceback.format_stack()\n",
      "\n",
      "\n",
      "  matplotlib.use('Agg')\n"
     ]
    }
   ],
   "source": [
    "import tiles"
   ]
  },
  {
   "cell_type": "code",
   "execution_count": null,
   "metadata": {},
   "outputs": [],
   "source": [
    "#### Tiles from the slide#2\n",
    "#### generate and display tiles for a single slide"
   ]
  },
  {
   "cell_type": "code",
   "execution_count": null,
   "metadata": {},
   "outputs": [],
   "source": [
    "from PIL import Image, ImageDraw, ImageFont"
   ]
  },
  {
   "cell_type": "code",
   "execution_count": 7,
   "metadata": {},
   "outputs": [
    {
     "name": "stdout",
     "output_type": "stream",
     "text": [
      "RGB                  | Time: 0:00:00.077583  Type: uint8   Shape: (1336, 2684, 3)\n",
      "Save Tile Data       | Time: 0:00:00.023873  Name: /media/raj/Raj1_5/data/tile_data/TCGA-GBM-002-32x-85895x42764-2684x1336-tile_data.csv\n",
      "RGB                  | Time: 0:00:00.135568  Type: uint8   Shape: (1336, 2684, 3)\n",
      "Save Tile Sum        | Time: 0:00:00.338502  Name: /media/raj/Raj1_5/data/tile_summary_png/TCGA-GBM-002-32x-85895x42764-2684x1336-tile_summary.png\n",
      "Save Tile Sum Thumb  | Time: 0:00:00.031269  Name: /media/raj/Raj1_5/data/tile_summary_thumbnail_jpg/TCGA-GBM-002-32x-85895x42764-2684x1336-tile_summary.jpg\n",
      "Save Tile Sum Orig   | Time: 0:00:00.944350  Name: /media/raj/Raj1_5/data/tile_summary_on_original_png/TCGA-GBM-002-32x-85895x42764-2684x1336-tile_summary.png\n",
      "Save Tile Sum Orig T | Time: 0:00:00.028736  Name: /media/raj/Raj1_5/data/tile_summary_on_original_thumbnail_jpg/TCGA-GBM-002-32x-85895x42764-2684x1336-tile_summary.jpg\n",
      "RGB                  | Time: 0:00:00.137361  Type: uint8   Shape: (1336, 2684, 3)\n",
      "RGB                  | Time: 0:00:00.008992  Type: uint8   Shape: (1644, 2688, 3)\n",
      "RGB                  | Time: 0:00:00.001097  Type: uint8   Shape: (1130, 550, 3)\n",
      "RGB                  | Time: 0:00:00.009079  Type: uint8   Shape: (1644, 2688, 3)\n",
      "RGB                  | Time: 0:00:00.001104  Type: uint8   Shape: (1130, 550, 3)\n",
      "Save Top Tiles Image | Time: 0:00:00.471132  Name: /media/raj/Raj1_5/data/top_tile_summary_png/TCGA-GBM-002-32x-85895x42764-2684x1336-top_tile_summary.png\n",
      "Save Top Tiles Thumb | Time: 0:00:00.040898  Name: /media/raj/Raj1_5/data/top_tile_summary_thumbnail_jpg/TCGA-GBM-002-32x-85895x42764-2684x1336-top_tile_summary.jpg\n",
      "Save Top Orig        | Time: 0:00:01.267101  Name: /media/raj/Raj1_5/data/top_tile_summary_on_original_png/TCGA-GBM-002-32x-85895x42764-2684x1336-top_tile_summary.png\n",
      "Save Top Orig Thumb  | Time: 0:00:00.033648  Name: /media/raj/Raj1_5/data/top_tile_summary_on_original_thumbnail_jpg/TCGA-GBM-002-32x-85895x42764-2684x1336-top_tile_summary.jpg\n",
      "got openslide open: /media/raj/Raj1_5/data/training_slides/TCGA-GBM-029-TCGA-02-0007-01A-01-BS1.daf31c78-c900-400a-a63f-b25c53daf160.svs\n",
      "Save Tile            | Time: 0:00:00.544805  Name: /media/raj/Raj1_5/data/tiles_png/002/TCGA-GBM-002-tile-r22-c71-x71686-y21510-w1024-h1024.png\n",
      "got openslide open: /media/raj/Raj1_5/data/training_slides/TCGA-GBM-029-TCGA-02-0007-01A-01-BS1.daf31c78-c900-400a-a63f-b25c53daf160.svs\n",
      "Save Tile            | Time: 0:00:00.496435  Name: /media/raj/Raj1_5/data/tiles_png/002/TCGA-GBM-002-tile-r25-c15-x14337-y24583-w1024-h1024.png\n",
      "got openslide open: /media/raj/Raj1_5/data/training_slides/TCGA-GBM-029-TCGA-02-0007-01A-01-BS1.daf31c78-c900-400a-a63f-b25c53daf160.svs\n",
      "Save Tile            | Time: 0:00:00.490147  Name: /media/raj/Raj1_5/data/tiles_png/002/TCGA-GBM-002-tile-r19-c70-x70662-y18437-w1024-h1024.png\n",
      "got openslide open: /media/raj/Raj1_5/data/training_slides/TCGA-GBM-029-TCGA-02-0007-01A-01-BS1.daf31c78-c900-400a-a63f-b25c53daf160.svs\n",
      "Save Tile            | Time: 0:00:00.392036  Name: /media/raj/Raj1_5/data/tiles_png/002/TCGA-GBM-002-tile-r17-c61-x61445-y16389-w1024-h1024.png\n",
      "got openslide open: /media/raj/Raj1_5/data/training_slides/TCGA-GBM-029-TCGA-02-0007-01A-01-BS1.daf31c78-c900-400a-a63f-b25c53daf160.svs\n",
      "Save Tile            | Time: 0:00:00.738607  Name: /media/raj/Raj1_5/data/tiles_png/002/TCGA-GBM-002-tile-r18-c21-x20482-y17413-w1024-h1024.png\n",
      "got openslide open: /media/raj/Raj1_5/data/training_slides/TCGA-GBM-029-TCGA-02-0007-01A-01-BS1.daf31c78-c900-400a-a63f-b25c53daf160.svs\n",
      "Save Tile            | Time: 0:00:00.748500  Name: /media/raj/Raj1_5/data/tiles_png/002/TCGA-GBM-002-tile-r17-c21-x20482-y16389-w1024-h1024.png\n",
      "got openslide open: /media/raj/Raj1_5/data/training_slides/TCGA-GBM-029-TCGA-02-0007-01A-01-BS1.daf31c78-c900-400a-a63f-b25c53daf160.svs\n",
      "Save Tile            | Time: 0:00:00.453216  Name: /media/raj/Raj1_5/data/tiles_png/002/TCGA-GBM-002-tile-r18-c62-x62469-y17413-w1024-h1024.png\n",
      "got openslide open: /media/raj/Raj1_5/data/training_slides/TCGA-GBM-029-TCGA-02-0007-01A-01-BS1.daf31c78-c900-400a-a63f-b25c53daf160.svs\n",
      "Save Tile            | Time: 0:00:00.836839  Name: /media/raj/Raj1_5/data/tiles_png/002/TCGA-GBM-002-tile-r18-c22-x21506-y17413-w1024-h1024.png\n",
      "got openslide open: /media/raj/Raj1_5/data/training_slides/TCGA-GBM-029-TCGA-02-0007-01A-01-BS1.daf31c78-c900-400a-a63f-b25c53daf160.svs\n",
      "Save Tile            | Time: 0:00:00.631252  Name: /media/raj/Raj1_5/data/tiles_png/002/TCGA-GBM-002-tile-r17-c20-x19458-y16389-w1024-h1024.png\n",
      "got openslide open: /media/raj/Raj1_5/data/training_slides/TCGA-GBM-029-TCGA-02-0007-01A-01-BS1.daf31c78-c900-400a-a63f-b25c53daf160.svs\n",
      "Save Tile            | Time: 0:00:00.430667  Name: /media/raj/Raj1_5/data/tiles_png/002/TCGA-GBM-002-tile-r16-c62-x62469-y15364-w1024-h1024.png\n",
      "got openslide open: /media/raj/Raj1_5/data/training_slides/TCGA-GBM-029-TCGA-02-0007-01A-01-BS1.daf31c78-c900-400a-a63f-b25c53daf160.svs\n",
      "Save Tile            | Time: 0:00:00.841190  Name: /media/raj/Raj1_5/data/tiles_png/002/TCGA-GBM-002-tile-r16-c22-x21506-y15364-w1024-h1024.png\n",
      "got openslide open: /media/raj/Raj1_5/data/training_slides/TCGA-GBM-029-TCGA-02-0007-01A-01-BS1.daf31c78-c900-400a-a63f-b25c53daf160.svs\n",
      "Save Tile            | Time: 0:00:00.427156  Name: /media/raj/Raj1_5/data/tiles_png/002/TCGA-GBM-002-tile-r17-c62-x62469-y16389-w1024-h1024.png\n",
      "got openslide open: /media/raj/Raj1_5/data/training_slides/TCGA-GBM-029-TCGA-02-0007-01A-01-BS1.daf31c78-c900-400a-a63f-b25c53daf160.svs\n",
      "Save Tile            | Time: 0:00:00.442988  Name: /media/raj/Raj1_5/data/tiles_png/002/TCGA-GBM-002-tile-r17-c63-x63493-y16389-w1024-h1024.png\n",
      "got openslide open: /media/raj/Raj1_5/data/training_slides/TCGA-GBM-029-TCGA-02-0007-01A-01-BS1.daf31c78-c900-400a-a63f-b25c53daf160.svs\n",
      "Save Tile            | Time: 0:00:00.837155  Name: /media/raj/Raj1_5/data/tiles_png/002/TCGA-GBM-002-tile-r23-c23-x22530-y22534-w1024-h1024.png\n",
      "got openslide open: /media/raj/Raj1_5/data/training_slides/TCGA-GBM-029-TCGA-02-0007-01A-01-BS1.daf31c78-c900-400a-a63f-b25c53daf160.svs\n",
      "Save Tile            | Time: 0:00:00.440805  Name: /media/raj/Raj1_5/data/tiles_png/002/TCGA-GBM-002-tile-r18-c61-x61445-y17413-w1024-h1024.png\n",
      "got openslide open: /media/raj/Raj1_5/data/training_slides/TCGA-GBM-029-TCGA-02-0007-01A-01-BS1.daf31c78-c900-400a-a63f-b25c53daf160.svs\n",
      "Save Tile            | Time: 0:00:00.855035  Name: /media/raj/Raj1_5/data/tiles_png/002/TCGA-GBM-002-tile-r21-c23-x22530-y20486-w1024-h1024.png\n",
      "got openslide open: /media/raj/Raj1_5/data/training_slides/TCGA-GBM-029-TCGA-02-0007-01A-01-BS1.daf31c78-c900-400a-a63f-b25c53daf160.svs\n",
      "Save Tile            | Time: 0:00:00.807796  Name: /media/raj/Raj1_5/data/tiles_png/002/TCGA-GBM-002-tile-r17-c23-x22530-y16389-w1024-h1024.png\n",
      "got openslide open: /media/raj/Raj1_5/data/training_slides/TCGA-GBM-029-TCGA-02-0007-01A-01-BS1.daf31c78-c900-400a-a63f-b25c53daf160.svs\n",
      "Save Tile            | Time: 0:00:00.392534  Name: /media/raj/Raj1_5/data/tiles_png/002/TCGA-GBM-002-tile-r15-c63-x63493-y14340-w1024-h1024.png\n",
      "got openslide open: /media/raj/Raj1_5/data/training_slides/TCGA-GBM-029-TCGA-02-0007-01A-01-BS1.daf31c78-c900-400a-a63f-b25c53daf160.svs\n",
      "Save Tile            | Time: 0:00:00.484091  Name: /media/raj/Raj1_5/data/tiles_png/002/TCGA-GBM-002-tile-r23-c14-x13313-y22534-w1024-h1024.png\n",
      "got openslide open: /media/raj/Raj1_5/data/training_slides/TCGA-GBM-029-TCGA-02-0007-01A-01-BS1.daf31c78-c900-400a-a63f-b25c53daf160.svs\n",
      "Save Tile            | Time: 0:00:00.598881  Name: /media/raj/Raj1_5/data/tiles_png/002/TCGA-GBM-002-tile-r18-c20-x19458-y17413-w1024-h1024.png\n",
      "got openslide open: /media/raj/Raj1_5/data/training_slides/TCGA-GBM-029-TCGA-02-0007-01A-01-BS1.daf31c78-c900-400a-a63f-b25c53daf160.svs\n",
      "Save Tile            | Time: 0:00:00.460858  Name: /media/raj/Raj1_5/data/tiles_png/002/TCGA-GBM-002-tile-r26-c15-x14337-y25607-w1024-h1024.png\n",
      "got openslide open: /media/raj/Raj1_5/data/training_slides/TCGA-GBM-029-TCGA-02-0007-01A-01-BS1.daf31c78-c900-400a-a63f-b25c53daf160.svs\n",
      "Save Tile            | Time: 0:00:00.841778  Name: /media/raj/Raj1_5/data/tiles_png/002/TCGA-GBM-002-tile-r19-c22-x21506-y18437-w1024-h1024.png\n",
      "got openslide open: /media/raj/Raj1_5/data/training_slides/TCGA-GBM-029-TCGA-02-0007-01A-01-BS1.daf31c78-c900-400a-a63f-b25c53daf160.svs\n"
     ]
    },
    {
     "name": "stdout",
     "output_type": "stream",
     "text": [
      "Save Tile            | Time: 0:00:00.553764  Name: /media/raj/Raj1_5/data/tiles_png/002/TCGA-GBM-002-tile-r24-c15-x14337-y23559-w1024-h1024.png\n",
      "got openslide open: /media/raj/Raj1_5/data/training_slides/TCGA-GBM-029-TCGA-02-0007-01A-01-BS1.daf31c78-c900-400a-a63f-b25c53daf160.svs\n",
      "Save Tile            | Time: 0:00:00.814018  Name: /media/raj/Raj1_5/data/tiles_png/002/TCGA-GBM-002-tile-r18-c24-x23554-y17413-w1024-h1024.png\n",
      "got openslide open: /media/raj/Raj1_5/data/training_slides/TCGA-GBM-029-TCGA-02-0007-01A-01-BS1.daf31c78-c900-400a-a63f-b25c53daf160.svs\n",
      "Save Tile            | Time: 0:00:00.847636  Name: /media/raj/Raj1_5/data/tiles_png/002/TCGA-GBM-002-tile-r20-c24-x23554-y19461-w1024-h1024.png\n",
      "got openslide open: /media/raj/Raj1_5/data/training_slides/TCGA-GBM-029-TCGA-02-0007-01A-01-BS1.daf31c78-c900-400a-a63f-b25c53daf160.svs\n",
      "Save Tile            | Time: 0:00:00.841910  Name: /media/raj/Raj1_5/data/tiles_png/002/TCGA-GBM-002-tile-r24-c23-x22530-y23559-w1024-h1024.png\n",
      "got openslide open: /media/raj/Raj1_5/data/training_slides/TCGA-GBM-029-TCGA-02-0007-01A-01-BS1.daf31c78-c900-400a-a63f-b25c53daf160.svs\n",
      "Save Tile            | Time: 0:00:00.431194  Name: /media/raj/Raj1_5/data/tiles_png/002/TCGA-GBM-002-tile-r16-c61-x61445-y15364-w1024-h1024.png\n",
      "got openslide open: /media/raj/Raj1_5/data/training_slides/TCGA-GBM-029-TCGA-02-0007-01A-01-BS1.daf31c78-c900-400a-a63f-b25c53daf160.svs\n",
      "Save Tile            | Time: 0:00:00.410975  Name: /media/raj/Raj1_5/data/tiles_png/002/TCGA-GBM-002-tile-r15-c62-x62469-y14340-w1024-h1024.png\n",
      "got openslide open: /media/raj/Raj1_5/data/training_slides/TCGA-GBM-029-TCGA-02-0007-01A-01-BS1.daf31c78-c900-400a-a63f-b25c53daf160.svs\n",
      "Save Tile            | Time: 0:00:00.504400  Name: /media/raj/Raj1_5/data/tiles_png/002/TCGA-GBM-002-tile-r18-c70-x70662-y17413-w1024-h1024.png\n",
      "got openslide open: /media/raj/Raj1_5/data/training_slides/TCGA-GBM-029-TCGA-02-0007-01A-01-BS1.daf31c78-c900-400a-a63f-b25c53daf160.svs\n",
      "Save Tile            | Time: 0:00:00.570318  Name: /media/raj/Raj1_5/data/tiles_png/002/TCGA-GBM-002-tile-r21-c61-x61445-y20486-w1024-h1024.png\n",
      "got openslide open: /media/raj/Raj1_5/data/training_slides/TCGA-GBM-029-TCGA-02-0007-01A-01-BS1.daf31c78-c900-400a-a63f-b25c53daf160.svs\n",
      "Save Tile            | Time: 0:00:00.450107  Name: /media/raj/Raj1_5/data/tiles_png/002/TCGA-GBM-002-tile-r16-c64-x64517-y15364-w1024-h1024.png\n",
      "got openslide open: /media/raj/Raj1_5/data/training_slides/TCGA-GBM-029-TCGA-02-0007-01A-01-BS1.daf31c78-c900-400a-a63f-b25c53daf160.svs\n",
      "Save Tile            | Time: 0:00:00.420670  Name: /media/raj/Raj1_5/data/tiles_png/002/TCGA-GBM-002-tile-r18-c63-x63493-y17413-w1024-h1024.png\n",
      "got openslide open: /media/raj/Raj1_5/data/training_slides/TCGA-GBM-029-TCGA-02-0007-01A-01-BS1.daf31c78-c900-400a-a63f-b25c53daf160.svs\n",
      "Save Tile            | Time: 0:00:00.876481  Name: /media/raj/Raj1_5/data/tiles_png/002/TCGA-GBM-002-tile-r16-c21-x20482-y15364-w1024-h1024.png\n",
      "got openslide open: /media/raj/Raj1_5/data/training_slides/TCGA-GBM-029-TCGA-02-0007-01A-01-BS1.daf31c78-c900-400a-a63f-b25c53daf160.svs\n",
      "Save Tile            | Time: 0:00:00.596596  Name: /media/raj/Raj1_5/data/tiles_png/002/TCGA-GBM-002-tile-r21-c67-x67590-y20486-w1024-h1024.png\n",
      "got openslide open: /media/raj/Raj1_5/data/training_slides/TCGA-GBM-029-TCGA-02-0007-01A-01-BS1.daf31c78-c900-400a-a63f-b25c53daf160.svs\n",
      "Save Tile            | Time: 0:00:00.377382  Name: /media/raj/Raj1_5/data/tiles_png/002/TCGA-GBM-002-tile-r15-c61-x61445-y14340-w1024-h1024.png\n",
      "got openslide open: /media/raj/Raj1_5/data/training_slides/TCGA-GBM-029-TCGA-02-0007-01A-01-BS1.daf31c78-c900-400a-a63f-b25c53daf160.svs\n",
      "Save Tile            | Time: 0:00:00.378997  Name: /media/raj/Raj1_5/data/tiles_png/002/TCGA-GBM-002-tile-r19-c61-x61445-y18437-w1024-h1024.png\n",
      "got openslide open: /media/raj/Raj1_5/data/training_slides/TCGA-GBM-029-TCGA-02-0007-01A-01-BS1.daf31c78-c900-400a-a63f-b25c53daf160.svs\n",
      "Save Tile            | Time: 0:00:00.563055  Name: /media/raj/Raj1_5/data/tiles_png/002/TCGA-GBM-002-tile-r17-c12-x11265-y16389-w1024-h1024.png\n",
      "got openslide open: /media/raj/Raj1_5/data/training_slides/TCGA-GBM-029-TCGA-02-0007-01A-01-BS1.daf31c78-c900-400a-a63f-b25c53daf160.svs\n",
      "Save Tile            | Time: 0:00:00.423039  Name: /media/raj/Raj1_5/data/tiles_png/002/TCGA-GBM-002-tile-r25-c14-x13313-y24583-w1024-h1024.png\n",
      "got openslide open: /media/raj/Raj1_5/data/training_slides/TCGA-GBM-029-TCGA-02-0007-01A-01-BS1.daf31c78-c900-400a-a63f-b25c53daf160.svs\n",
      "Save Tile            | Time: 0:00:00.850557  Name: /media/raj/Raj1_5/data/tiles_png/002/TCGA-GBM-002-tile-r20-c23-x22530-y19461-w1024-h1024.png\n",
      "got openslide open: /media/raj/Raj1_5/data/training_slides/TCGA-GBM-029-TCGA-02-0007-01A-01-BS1.daf31c78-c900-400a-a63f-b25c53daf160.svs\n",
      "Save Tile            | Time: 0:00:00.404312  Name: /media/raj/Raj1_5/data/tiles_png/002/TCGA-GBM-002-tile-r19-c62-x62469-y18437-w1024-h1024.png\n",
      "got openslide open: /media/raj/Raj1_5/data/training_slides/TCGA-GBM-029-TCGA-02-0007-01A-01-BS1.daf31c78-c900-400a-a63f-b25c53daf160.svs\n",
      "Save Tile            | Time: 0:00:00.489204  Name: /media/raj/Raj1_5/data/tiles_png/002/TCGA-GBM-002-tile-r21-c70-x70662-y20486-w1024-h1024.png\n",
      "got openslide open: /media/raj/Raj1_5/data/training_slides/TCGA-GBM-029-TCGA-02-0007-01A-01-BS1.daf31c78-c900-400a-a63f-b25c53daf160.svs\n",
      "Save Tile            | Time: 0:00:00.476487  Name: /media/raj/Raj1_5/data/tiles_png/002/TCGA-GBM-002-tile-r16-c63-x63493-y15364-w1024-h1024.png\n",
      "got openslide open: /media/raj/Raj1_5/data/training_slides/TCGA-GBM-029-TCGA-02-0007-01A-01-BS1.daf31c78-c900-400a-a63f-b25c53daf160.svs\n",
      "Save Tile            | Time: 0:00:00.456602  Name: /media/raj/Raj1_5/data/tiles_png/002/TCGA-GBM-002-tile-r21-c69-x69638-y20486-w1024-h1024.png\n",
      "got openslide open: /media/raj/Raj1_5/data/training_slides/TCGA-GBM-029-TCGA-02-0007-01A-01-BS1.daf31c78-c900-400a-a63f-b25c53daf160.svs\n",
      "Save Tile            | Time: 0:00:00.828342  Name: /media/raj/Raj1_5/data/tiles_png/002/TCGA-GBM-002-tile-r17-c22-x21506-y16389-w1024-h1024.png\n",
      "got openslide open: /media/raj/Raj1_5/data/training_slides/TCGA-GBM-029-TCGA-02-0007-01A-01-BS1.daf31c78-c900-400a-a63f-b25c53daf160.svs\n",
      "Save Tile            | Time: 0:00:00.641087  Name: /media/raj/Raj1_5/data/tiles_png/002/TCGA-GBM-002-tile-r22-c67-x67590-y21510-w1024-h1024.png\n",
      "got openslide open: /media/raj/Raj1_5/data/training_slides/TCGA-GBM-029-TCGA-02-0007-01A-01-BS1.daf31c78-c900-400a-a63f-b25c53daf160.svs\n",
      "Save Tile            | Time: 0:00:00.611648  Name: /media/raj/Raj1_5/data/tiles_png/002/TCGA-GBM-002-tile-r21-c68-x68614-y20486-w1024-h1024.png\n",
      "got openslide open: /media/raj/Raj1_5/data/training_slides/TCGA-GBM-029-TCGA-02-0007-01A-01-BS1.daf31c78-c900-400a-a63f-b25c53daf160.svs\n",
      "Save Tile            | Time: 0:00:00.507249  Name: /media/raj/Raj1_5/data/tiles_png/002/TCGA-GBM-002-tile-r26-c16-x15361-y25607-w1024-h1024.png\n",
      "got openslide open: /media/raj/Raj1_5/data/training_slides/TCGA-GBM-029-TCGA-02-0007-01A-01-BS1.daf31c78-c900-400a-a63f-b25c53daf160.svs\n",
      "Save Tile            | Time: 0:00:00.908777  Name: /media/raj/Raj1_5/data/tiles_png/002/TCGA-GBM-002-tile-r19-c24-x23554-y18437-w1024-h1024.png\n",
      "got openslide open: /media/raj/Raj1_5/data/training_slides/TCGA-GBM-029-TCGA-02-0007-01A-01-BS1.daf31c78-c900-400a-a63f-b25c53daf160.svs\n",
      "Save Tile            | Time: 0:00:00.418565  Name: /media/raj/Raj1_5/data/tiles_png/002/TCGA-GBM-002-tile-r15-c64-x64517-y14340-w1024-h1024.png\n",
      "got openslide open: /media/raj/Raj1_5/data/training_slides/TCGA-GBM-029-TCGA-02-0007-01A-01-BS1.daf31c78-c900-400a-a63f-b25c53daf160.svs\n",
      "Save Tile            | Time: 0:00:00.911772  Name: /media/raj/Raj1_5/data/tiles_png/002/TCGA-GBM-002-tile-r18-c23-x22530-y17413-w1024-h1024.png\n"
     ]
    },
    {
     "data": {
      "text/plain": [
       "<tiles.TileSummary at 0x7fe30d18aa58>"
      ]
     },
     "execution_count": 7,
     "metadata": {},
     "output_type": "execute_result"
    }
   ],
   "source": [
    "tiles.summary_and_tiles(2, display=True, save_summary=True, save_data=True, save_top_tiles=True)"
   ]
  },
  {
   "cell_type": "code",
   "execution_count": null,
   "metadata": {},
   "outputs": [],
   "source": []
  }
 ],
 "metadata": {
  "kernelspec": {
   "display_name": "GBM Tissue Identification Pipeline",
   "language": "python",
   "name": "gbmpipeline"
  },
  "language_info": {
   "codemirror_mode": {
    "name": "ipython",
    "version": 3
   },
   "file_extension": ".py",
   "mimetype": "text/x-python",
   "name": "python",
   "nbconvert_exporter": "python",
   "pygments_lexer": "ipython3",
   "version": "3.6.5"
  }
 },
 "nbformat": 4,
 "nbformat_minor": 2
}
