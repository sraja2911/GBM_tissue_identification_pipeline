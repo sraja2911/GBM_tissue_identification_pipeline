{
 "cells": [
  {
   "cell_type": "code",
   "execution_count": 1,
   "metadata": {},
   "outputs": [
    {
     "ename": "SyntaxError",
     "evalue": "Missing parentheses in call to 'print'. Did you mean print(\"got openslide open\")? (slide.py, line 96)",
     "output_type": "error",
     "traceback": [
      "Traceback \u001b[0;36m(most recent call last)\u001b[0m:\n",
      "  File \u001b[1;32m\"/home/raj/anaconda2/envs/GBMpipeline/lib/python3.6/site-packages/IPython/core/interactiveshell.py\"\u001b[0m, line \u001b[1;32m2963\u001b[0m, in \u001b[1;35mrun_code\u001b[0m\n    exec(code_obj, self.user_global_ns, self.user_ns)\n",
      "\u001b[0;36m  File \u001b[0;32m\"<ipython-input-1-ccac31b43f2f>\"\u001b[0;36m, line \u001b[0;32m5\u001b[0;36m, in \u001b[0;35m<module>\u001b[0;36m\u001b[0m\n\u001b[0;31m    import slide as slideprocess\u001b[0m\n",
      "\u001b[0;36m  File \u001b[0;32m\"/home/raj/Dropbox/files/EmoryUni/Lab_SourceCode/GBM_TissueIdentification/deep-histopath/deephistopath/wsi/slide.py\"\u001b[0;36m, line \u001b[0;32m96\u001b[0m\n\u001b[0;31m    print \"got openslide open\"\u001b[0m\n\u001b[0m                             ^\u001b[0m\n\u001b[0;31mSyntaxError\u001b[0m\u001b[0;31m:\u001b[0m Missing parentheses in call to 'print'. Did you mean print(\"got openslide open\")?\n"
     ]
    }
   ],
   "source": [
    "import numpy as np\n",
    "from PIL import Image\n",
    "import matplotlib.pyplot as plt\n",
    "import os\n",
    "import slide as slideprocess\n",
    "from slide import *"
   ]
  },
  {
   "cell_type": "code",
   "execution_count": 2,
   "metadata": {},
   "outputs": [],
   "source": [
    "BASE_DIR = os.path.join(\".\", \"/media/raj/Raj1_5/data\")\n",
    "# BASE_DIR = os.path.join(os.sep, \"Volumes\", \"BigData\", \"TUPAC\")\n",
    "TRAIN_PREFIX = \"TCGA-GBM-\"\n",
    "SRC_TRAIN_DIR = os.path.join(BASE_DIR, \"training_slides\")\n",
    "#SRC_TRAIN_DIR = os.path.join(BASE_DIR, \"training_image_data\")\n",
    "SRC_TRAIN_EXT = \"svs\"\n",
    "DEST_TRAIN_SUFFIX = \"\"  # Example: \"train-\"\n",
    "DEST_TRAIN_EXT = \"png\"\n",
    "SCALE_FACTOR = 32\n",
    "DEST_TRAIN_DIR = os.path.join(BASE_DIR, \"training_\" + DEST_TRAIN_EXT)\n",
    "THUMBNAIL_SIZE = 300\n",
    "THUMBNAIL_EXT = \"jpg\"\n",
    "\n",
    "DEST_TRAIN_THUMBNAIL_DIR = os.path.join(BASE_DIR, \"training_thumbnail_\" + THUMBNAIL_EXT)\n",
    "\n",
    "FILTER_SUFFIX = \"\"  # Example: \"filter-\"\n",
    "FILTER_RESULT_TEXT = \"filtered\"\n",
    "FILTER_DIR = os.path.join(BASE_DIR, \"filter_\" + DEST_TRAIN_EXT)\n",
    "FILTER_THUMBNAIL_DIR = os.path.join(BASE_DIR, \"filter_thumbnail_\" + THUMBNAIL_EXT)\n",
    "FILTER_PAGINATION_SIZE = 50\n",
    "FILTER_PAGINATE = True\n",
    "FILTER_HTML_DIR = BASE_DIR\n",
    "\n",
    "TILE_SUMMARY_DIR = os.path.join(BASE_DIR, \"tile_summary_\" + DEST_TRAIN_EXT)\n",
    "TILE_SUMMARY_ON_ORIGINAL_DIR = os.path.join(BASE_DIR, \"tile_summary_on_original_\" + DEST_TRAIN_EXT)\n",
    "TILE_SUMMARY_SUFFIX = \"tile_summary\"\n",
    "TILE_SUMMARY_THUMBNAIL_DIR = os.path.join(BASE_DIR, \"tile_summary_thumbnail_\" + THUMBNAIL_EXT)\n",
    "TILE_SUMMARY_ON_ORIGINAL_THUMBNAIL_DIR = os.path.join(BASE_DIR, \"tile_summary_on_original_thumbnail_\" + THUMBNAIL_EXT)\n",
    "TILE_SUMMARY_PAGINATION_SIZE = 50\n",
    "TILE_SUMMARY_PAGINATE = True\n",
    "TILE_SUMMARY_HTML_DIR = BASE_DIR\n",
    "\n",
    "TILE_DATA_DIR = os.path.join(BASE_DIR, \"tile_data\")\n",
    "TILE_DATA_SUFFIX = \"tile_data\"\n",
    "\n",
    "TOP_TILES_SUFFIX = \"top_tile_summary\"\n",
    "TOP_TILES_DIR = os.path.join(BASE_DIR, TOP_TILES_SUFFIX + \"_\" + DEST_TRAIN_EXT)\n",
    "TOP_TILES_THUMBNAIL_DIR = os.path.join(BASE_DIR, TOP_TILES_SUFFIX + \"_thumbnail_\" + THUMBNAIL_EXT)\n",
    "TOP_TILES_ON_ORIGINAL_DIR = os.path.join(BASE_DIR, TOP_TILES_SUFFIX + \"_on_original_\" + DEST_TRAIN_EXT)\n",
    "TOP_TILES_ON_ORIGINAL_THUMBNAIL_DIR = os.path.join(BASE_DIR,\n",
    "                                                   TOP_TILES_SUFFIX + \"_on_original_thumbnail_\" + THUMBNAIL_EXT)\n",
    "\n",
    "TILE_DIR = os.path.join(BASE_DIR, \"tiles_\" + DEST_TRAIN_EXT)\n",
    "TILE_SUFFIX = \"tile\"\n",
    "\n",
    "STATS_DIR = os.path.join(BASE_DIR, \"svs_stats\")"
   ]
  },
  {
   "cell_type": "code",
   "execution_count": 3,
   "metadata": {},
   "outputs": [
    {
     "ename": "NameError",
     "evalue": "name 'slideprocess' is not defined",
     "output_type": "error",
     "traceback": [
      "\u001b[0;31m---------------------------------------------------------------------------\u001b[0m",
      "\u001b[0;31mNameError\u001b[0m                                 Traceback (most recent call last)",
      "\u001b[0;32m<ipython-input-3-8a871501b703>\u001b[0m in \u001b[0;36m<module>\u001b[0;34m()\u001b[0m\n\u001b[0;32m----> 1\u001b[0;31m \u001b[0mslideprocess\u001b[0m\u001b[0;34m.\u001b[0m\u001b[0msingleprocess_training_slides_to_images\u001b[0m\u001b[0;34m(\u001b[0m\u001b[0;34m)\u001b[0m\u001b[0;34m\u001b[0m\u001b[0m\n\u001b[0m",
      "\u001b[0;31mNameError\u001b[0m: name 'slideprocess' is not defined"
     ]
    }
   ],
   "source": [
    "slideprocess.singleprocess_training_slides_to_images()"
   ]
  },
  {
   "cell_type": "code",
   "execution_count": null,
   "metadata": {},
   "outputs": [],
   "source": []
  }
 ],
 "metadata": {
  "kernelspec": {
   "display_name": "GBM Tissue Identification Pipeline",
   "language": "python",
   "name": "gbmpipeline"
  },
  "language_info": {
   "codemirror_mode": {
    "name": "ipython",
    "version": 3
   },
   "file_extension": ".py",
   "mimetype": "text/x-python",
   "name": "python",
   "nbconvert_exporter": "python",
   "pygments_lexer": "ipython3",
   "version": "3.6.5"
  }
 },
 "nbformat": 4,
 "nbformat_minor": 2
}
