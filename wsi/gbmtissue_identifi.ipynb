{
 "cells": [
  {
   "cell_type": "code",
   "execution_count": 1,
   "metadata": {},
   "outputs": [],
   "source": [
    "import numpy as np\n",
    "from PIL import Image\n",
    "import matplotlib.pyplot as plt\n",
    "import os\n",
    "import slide as slideprocess\n",
    "from slide import *"
   ]
  },
  {
   "cell_type": "code",
   "execution_count": 2,
   "metadata": {},
   "outputs": [],
   "source": [
    "BASE_DIR = os.path.join(\".\", \"/media/raj/Raj1_5/data\")\n",
    "# BASE_DIR = os.path.join(os.sep, \"Volumes\", \"BigData\", \"TUPAC\")\n",
    "TRAIN_PREFIX = \"TCGA-GBM-\"\n",
    "SRC_TRAIN_DIR = os.path.join(BASE_DIR, \"training_slides\")\n",
    "#SRC_TRAIN_DIR = os.path.join(BASE_DIR, \"training_image_data\")\n",
    "SRC_TRAIN_EXT = \"svs\"\n",
    "DEST_TRAIN_SUFFIX = \"\"  # Example: \"train-\"\n",
    "DEST_TRAIN_EXT = \"png\"\n",
    "SCALE_FACTOR = 32\n",
    "DEST_TRAIN_DIR = os.path.join(BASE_DIR, \"training_\" + DEST_TRAIN_EXT)\n",
    "THUMBNAIL_SIZE = 300\n",
    "THUMBNAIL_EXT = \"jpg\"\n",
    "\n",
    "DEST_TRAIN_THUMBNAIL_DIR = os.path.join(BASE_DIR, \"training_thumbnail_\" + THUMBNAIL_EXT)\n",
    "\n",
    "FILTER_SUFFIX = \"\"  # Example: \"filter-\"\n",
    "FILTER_RESULT_TEXT = \"filtered\"\n",
    "FILTER_DIR = os.path.join(BASE_DIR, \"filter_\" + DEST_TRAIN_EXT)\n",
    "FILTER_THUMBNAIL_DIR = os.path.join(BASE_DIR, \"filter_thumbnail_\" + THUMBNAIL_EXT)\n",
    "FILTER_PAGINATION_SIZE = 50\n",
    "FILTER_PAGINATE = True\n",
    "FILTER_HTML_DIR = BASE_DIR\n",
    "\n",
    "TILE_SUMMARY_DIR = os.path.join(BASE_DIR, \"tile_summary_\" + DEST_TRAIN_EXT)\n",
    "TILE_SUMMARY_ON_ORIGINAL_DIR = os.path.join(BASE_DIR, \"tile_summary_on_original_\" + DEST_TRAIN_EXT)\n",
    "TILE_SUMMARY_SUFFIX = \"tile_summary\"\n",
    "TILE_SUMMARY_THUMBNAIL_DIR = os.path.join(BASE_DIR, \"tile_summary_thumbnail_\" + THUMBNAIL_EXT)\n",
    "TILE_SUMMARY_ON_ORIGINAL_THUMBNAIL_DIR = os.path.join(BASE_DIR, \"tile_summary_on_original_thumbnail_\" + THUMBNAIL_EXT)\n",
    "TILE_SUMMARY_PAGINATION_SIZE = 50\n",
    "TILE_SUMMARY_PAGINATE = True\n",
    "TILE_SUMMARY_HTML_DIR = BASE_DIR\n",
    "\n",
    "TILE_DATA_DIR = os.path.join(BASE_DIR, \"tile_data\")\n",
    "TILE_DATA_SUFFIX = \"tile_data\"\n",
    "\n",
    "TOP_TILES_SUFFIX = \"top_tile_summary\"\n",
    "TOP_TILES_DIR = os.path.join(BASE_DIR, TOP_TILES_SUFFIX + \"_\" + DEST_TRAIN_EXT)\n",
    "TOP_TILES_THUMBNAIL_DIR = os.path.join(BASE_DIR, TOP_TILES_SUFFIX + \"_thumbnail_\" + THUMBNAIL_EXT)\n",
    "TOP_TILES_ON_ORIGINAL_DIR = os.path.join(BASE_DIR, TOP_TILES_SUFFIX + \"_on_original_\" + DEST_TRAIN_EXT)\n",
    "TOP_TILES_ON_ORIGINAL_THUMBNAIL_DIR = os.path.join(BASE_DIR,\n",
    "                                                   TOP_TILES_SUFFIX + \"_on_original_thumbnail_\" + THUMBNAIL_EXT)\n",
    "\n",
    "TILE_DIR = os.path.join(BASE_DIR, \"tiles_\" + DEST_TRAIN_EXT)\n",
    "TILE_SUFFIX = \"tile\"\n",
    "\n",
    "STATS_DIR = os.path.join(BASE_DIR, \"svs_stats\")"
   ]
  },
  {
   "cell_type": "code",
   "execution_count": 3,
   "metadata": {},
   "outputs": [
    {
     "name": "stdout",
     "output_type": "stream",
     "text": [
      "Opening Slide #4: /media/raj/Raj1_5/data/training_slides/TCGA-GBM-013-TCGA-02-0025-01Z-00-DX2.aa8923a0-2930-47f4-bbff-ceb080fafc9e.svs\n",
      "got openslide open: /media/raj/Raj1_5/data/training_slides/TCGA-GBM-013-TCGA-02-0025-01Z-00-DX2.aa8923a0-2930-47f4-bbff-ceb080fafc9e.svs\n",
      "Saving image to: /media/raj/Raj1_5/data/training_png/TCGA-GBM-004-32x-68003x40359-2125x1261.png\n"
     ]
    }
   ],
   "source": [
    "slideprocess.training_slide_to_image(4)\n",
    "img_path = slideprocess.get_training_image_path(4)\n",
    "img = slideprocess.open_image(img_path)\n",
    "img.show()"
   ]
  },
  {
   "cell_type": "code",
   "execution_count": 4,
   "metadata": {},
   "outputs": [],
   "source": [
    "img_path = slideprocess.get_training_image_path(2)\n",
    "img = slideprocess.open_image(img_path)"
   ]
  },
  {
   "cell_type": "code",
   "execution_count": 6,
   "metadata": {},
   "outputs": [
    {
     "name": "stdout",
     "output_type": "stream",
     "text": [
      "RGB                  | Time: 0:00:00.143037  Type: uint8   Shape: (1336, 2684, 3)\n"
     ]
    }
   ],
   "source": [
    "rgb=util.pil_to_np_rgb(img)"
   ]
  },
  {
   "cell_type": "code",
   "execution_count": 5,
   "metadata": {},
   "outputs": [],
   "source": [
    "import util "
   ]
  },
  {
   "cell_type": "code",
   "execution_count": 7,
   "metadata": {},
   "outputs": [],
   "source": [
    "util.display_img(rgb)"
   ]
  },
  {
   "cell_type": "code",
   "execution_count": 8,
   "metadata": {},
   "outputs": [],
   "source": [
    "import math\n",
    "import multiprocessing\n",
    "import numpy as np\n",
    "import os\n",
    "import scipy.ndimage.morphology as sc_morph\n",
    "import skimage.color as sk_color\n",
    "import skimage.exposure as sk_exposure\n",
    "import skimage.feature as sk_feature\n",
    "import skimage.filters as sk_filters\n",
    "import skimage.future as sk_future\n",
    "import skimage.morphology as sk_morphology\n",
    "import skimage.segmentation as sk_segmentation"
   ]
  },
  {
   "cell_type": "code",
   "execution_count": 9,
   "metadata": {},
   "outputs": [],
   "source": [
    "import filter "
   ]
  },
  {
   "cell_type": "code",
   "execution_count": 11,
   "metadata": {},
   "outputs": [
    {
     "name": "stdout",
     "output_type": "stream",
     "text": [
      "Gray                 | Time: 0:00:00.181446  Type: uint8   Shape: (1336, 2684)\n"
     ]
    }
   ],
   "source": [
    "grayscale = filter.filter_rgb_to_grayscale(rgb)"
   ]
  },
  {
   "cell_type": "code",
   "execution_count": 15,
   "metadata": {},
   "outputs": [],
   "source": [
    "util.display_img(grayscale)"
   ]
  },
  {
   "cell_type": "code",
   "execution_count": 14,
   "metadata": {},
   "outputs": [
    {
     "name": "stdout",
     "output_type": "stream",
     "text": [
      "RGB                  | Time: 0:00:00.140225  Type: uint8   Shape: (1336, 2684, 3)\n",
      "Gray                 | Time: 0:00:00.168285  Type: uint8   Shape: (1336, 2684)\n",
      "Complement           | Time: 0:00:00.000997  Type: uint8   Shape: (1336, 2684)\n"
     ]
    }
   ],
   "source": [
    "img_path = slideprocess.get_training_image_path(2)\n",
    "img = slideprocess.open_image(img_path)\n",
    "rgb = util.pil_to_np_rgb(img)\n",
    "grayscale = filter.filter_rgb_to_grayscale(rgb)\n",
    "complement = filter.filter_complement(grayscale)\n",
    "util.display_img(complement)"
   ]
  },
  {
   "cell_type": "code",
   "execution_count": 18,
   "metadata": {},
   "outputs": [
    {
     "name": "stdout",
     "output_type": "stream",
     "text": [
      "RGB                  | Time: 0:00:00.136008  Type: uint8   Shape: (1336, 2684, 3)\n",
      "Gray                 | Time: 0:00:00.157468  Type: uint8   Shape: (1336, 2684)\n",
      "Complement           | Time: 0:00:00.001019  Type: uint8   Shape: (1336, 2684)\n",
      "Threshold            | Time: 0:00:00.000828  Type: bool    Shape: (1336, 2684)\n"
     ]
    }
   ],
   "source": [
    "img_path = slideprocess.get_training_image_path(2)\n",
    "img = slideprocess.open_image(img_path)\n",
    "rgb = util.pil_to_np_rgb(img)\n",
    "grayscale = filter.filter_rgb_to_grayscale(rgb)\n",
    "complement = filter.filter_complement(grayscale)\n",
    "thresh = filter.filter_threshold(complement, threshold=100)\n",
    "util.display_img(thresh)"
   ]
  },
  {
   "cell_type": "code",
   "execution_count": null,
   "metadata": {},
   "outputs": [],
   "source": []
  }
 ],
 "metadata": {
  "kernelspec": {
   "display_name": "GBM Tissue Identification Pipeline",
   "language": "python",
   "name": "gbmpipeline"
  },
  "language_info": {
   "codemirror_mode": {
    "name": "ipython",
    "version": 3
   },
   "file_extension": ".py",
   "mimetype": "text/x-python",
   "name": "python",
   "nbconvert_exporter": "python",
   "pygments_lexer": "ipython3",
   "version": "3.6.5"
  }
 },
 "nbformat": 4,
 "nbformat_minor": 2
}
